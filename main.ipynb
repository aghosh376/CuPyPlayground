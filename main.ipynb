{
  "cells": [
    {
      "cell_type": "code",
      "source": [
        "!python -m cupyx.tools.install_library --cuda 11.x --library cutensor"
      ],
      "metadata": {
        "id": "rmJjJn1EMgfY",
        "outputId": "f34e5e5b-e1ac-4feb-dec4-31bf9a6236cc",
        "colab": {
          "base_uri": "https://localhost:8080/"
        }
      },
      "execution_count": 3,
      "outputs": [
        {
          "output_type": "stream",
          "name": "stdout",
          "text": [
            "Traceback (most recent call last):\n",
            "  File \"/usr/lib/python3.10/runpy.py\", line 196, in _run_module_as_main\n",
            "    return _run_code(code, main_globals, None,\n",
            "  File \"/usr/lib/python3.10/runpy.py\", line 86, in _run_code\n",
            "    exec(code, run_globals)\n",
            "  File \"/usr/local/lib/python3.10/dist-packages/cupyx/tools/install_library.py\", line 303, in <module>\n",
            "    main(sys.argv[1:])\n",
            "  File \"/usr/local/lib/python3.10/dist-packages/cupyx/tools/install_library.py\", line 295, in main\n",
            "    install_lib(params.cuda, params.prefix, params.library)\n",
            "  File \"/usr/local/lib/python3.10/dist-packages/cupyx/tools/install_library.py\", line 196, in install_lib\n",
            "    raise RuntimeError('''\n",
            "RuntimeError: \n",
            "The destination directory /root/.cupy/cuda_lib/11.x/cutensor/1.6.2 already exists.\n",
            "Remove the directory first if you want to reinstall.\n"
          ]
        }
      ]
    },
    {
      "cell_type": "code",
      "source": [
        "pip install cupy-cuda12x cutensor-cu12"
      ],
      "metadata": {
        "id": "et1VREDSRbdJ",
        "outputId": "6f9b7dc1-b26c-437f-9477-9b8a0af90bba",
        "colab": {
          "base_uri": "https://localhost:8080/"
        }
      },
      "execution_count": 5,
      "outputs": [
        {
          "output_type": "stream",
          "name": "stdout",
          "text": [
            "Requirement already satisfied: cupy-cuda12x in /usr/local/lib/python3.10/dist-packages (12.2.0)\n",
            "Collecting cutensor-cu12\n",
            "  Downloading cutensor_cu12-2.0.2-py3-none-manylinux2014_x86_64.whl.metadata (2.1 kB)\n",
            "Requirement already satisfied: numpy<1.27,>=1.20 in /usr/local/lib/python3.10/dist-packages (from cupy-cuda12x) (1.26.4)\n",
            "Requirement already satisfied: fastrlock>=0.5 in /usr/local/lib/python3.10/dist-packages (from cupy-cuda12x) (0.8.2)\n",
            "Downloading cutensor_cu12-2.0.2-py3-none-manylinux2014_x86_64.whl (156.9 MB)\n",
            "\u001b[2K   \u001b[90m━━━━━━━━━━━━━━━━━━━━━━━━━━━━━━━━━━━━━━━━\u001b[0m \u001b[32m156.9/156.9 MB\u001b[0m \u001b[31m6.4 MB/s\u001b[0m eta \u001b[36m0:00:00\u001b[0m\n",
            "\u001b[?25hInstalling collected packages: cutensor-cu12\n",
            "Successfully installed cutensor-cu12-2.0.2\n"
          ]
        }
      ]
    },
    {
      "cell_type": "code",
      "execution_count": 17,
      "metadata": {
        "id": "PCQA_qVbdatJ"
      },
      "outputs": [],
      "source": [
        "import numpy as np\n",
        "import cupy as cp\n",
        "import cutensor as cutensor\n",
        "\n",
        "cp.cuda.Stream.null.synchronize()"
      ]
    },
    {
      "cell_type": "code",
      "execution_count": null,
      "metadata": {
        "id": "b2ku3jJvdatL"
      },
      "outputs": [],
      "source": [
        "arr = cp.ones((1000,500,500))\n",
        "\n",
        "#makes us wait for gpu to finish before returning\n",
        "cp.cuda.Stream.null.synchronize()"
      ]
    },
    {
      "cell_type": "code",
      "execution_count": 15,
      "metadata": {
        "id": "OQ2IjmbodatL",
        "outputId": "66b42551-5918-4283-e42a-883aab91c71a",
        "colab": {
          "base_uri": "https://localhost:8080/"
        }
      },
      "outputs": [
        {
          "output_type": "stream",
          "name": "stdout",
          "text": [
            "A:  [[[ 1  2  3]\n",
            "  [ 3  4  5]\n",
            "  [ 6  7  8]]\n",
            "\n",
            " [[ 9 10 11]\n",
            "  [12 13 14]\n",
            "  [15 16 17]]]\n",
            "B:  [[[0. 0. 0.]\n",
            "  [0. 0. 0.]\n",
            "  [0. 0. 0.]]\n",
            "\n",
            " [[0. 0. 0.]\n",
            "  [0. 0. 0.]\n",
            "  [0. 0. 0.]]]\n"
          ]
        }
      ],
      "source": [
        "A = cp.array([[[1,2,3],\n",
        "               [3,4,5],\n",
        "               [6,7,8]],\n",
        "\n",
        "              [[9,10,11],\n",
        "               [12,13,14],\n",
        "               [15,16,17]]],)\n",
        "\n",
        "B = cp.zeros((2,3,3))\n",
        "\n",
        "print(\"A: \", A)\n",
        "print(\"B: \", B)\n"
      ]
    },
    {
      "cell_type": "code",
      "execution_count": null,
      "metadata": {
        "id": "y1dTdg8HdatM"
      },
      "outputs": [],
      "source": [
        "result = cp.einsum('ijk,jkl->il', A, B)\n",
        "print(\"Result with cp.einsum: \", result)\n",
        "\n",
        "# ijk the dimensions of A, jkl the dimensions of B, il the dimensions of the einstein sum\n",
        "# contraction happens over the j and k dimensions\n",
        "cp.cuda.Stream.null.synchronize()"
      ]
    },
    {
      "cell_type": "code",
      "execution_count": 18,
      "metadata": {
        "id": "fdKNi8kEdatM",
        "outputId": "39d71a24-0f79-46b5-c9ac-5b39f656a445",
        "colab": {
          "base_uri": "https://localhost:8080/",
          "height": 216
        }
      },
      "outputs": [
        {
          "output_type": "error",
          "ename": "AttributeError",
          "evalue": "module 'cutensor' has no attribute 'create_tensor_descriptor'",
          "traceback": [
            "\u001b[0;31m---------------------------------------------------------------------------\u001b[0m",
            "\u001b[0;31mAttributeError\u001b[0m                            Traceback (most recent call last)",
            "\u001b[0;32m<ipython-input-18-8bd187529094>\u001b[0m in \u001b[0;36m<cell line: 4>\u001b[0;34m()\u001b[0m\n\u001b[1;32m      2\u001b[0m \u001b[0;34m\u001b[0m\u001b[0m\n\u001b[1;32m      3\u001b[0m \u001b[0;31m#need descriptors to describe shape, data type and memory of tensor\u001b[0m\u001b[0;34m\u001b[0m\u001b[0;34m\u001b[0m\u001b[0m\n\u001b[0;32m----> 4\u001b[0;31m \u001b[0mdesc_A\u001b[0m \u001b[0;34m=\u001b[0m \u001b[0mcutensor\u001b[0m\u001b[0;34m.\u001b[0m\u001b[0mcreate_tensor_descriptor\u001b[0m\u001b[0;34m(\u001b[0m\u001b[0mA\u001b[0m\u001b[0;34m)\u001b[0m\u001b[0;34m\u001b[0m\u001b[0;34m\u001b[0m\u001b[0m\n\u001b[0m\u001b[1;32m      5\u001b[0m \u001b[0;34m\u001b[0m\u001b[0m\n\u001b[1;32m      6\u001b[0m \u001b[0mdesc_B\u001b[0m \u001b[0;34m=\u001b[0m \u001b[0mcutensor\u001b[0m\u001b[0;34m.\u001b[0m\u001b[0mcreate_tensor_descriptor\u001b[0m\u001b[0;34m(\u001b[0m\u001b[0mB\u001b[0m\u001b[0;34m)\u001b[0m\u001b[0;34m\u001b[0m\u001b[0;34m\u001b[0m\u001b[0m\n",
            "\u001b[0;31mAttributeError\u001b[0m: module 'cutensor' has no attribute 'create_tensor_descriptor'"
          ]
        }
      ],
      "source": [
        "# using cutensor\n",
        "\n",
        "#need descriptors to describe shape, data type and memory of tensor\n",
        "desc_A = cutensor.create_tensor_descriptor(A)\n",
        "\n",
        "desc_B = cutensor.create_tensor_descriptor(B)\n",
        "\n",
        "# Empty output tensor of the shape of the einstein sum of dimensions il\n",
        "output = cp.empty((2,3), dType = A.dtype)\n",
        "\n",
        "desc_output = cutensor.create_tensor_descriptor(output)"
      ]
    },
    {
      "cell_type": "code",
      "execution_count": null,
      "metadata": {
        "id": "7vHtf1bKdatM"
      },
      "outputs": [],
      "source": [
        "#create description of contraction of the tensors\n",
        "contract_desc = cutensor.einsum_expr(('i','j','k'),('j','k','l'),('i','l'))\n",
        "#('i','j','k') dimensions of A,\n",
        "#('j','k','l') dimensions of B,\n",
        "#('i','l') dimensions of output\n",
        "\n",
        "#scale factor for contraction operation\n",
        "alpha = 1.0\n",
        "#scale factor for output\n",
        "beta = 0.0\n",
        "\n",
        "#contraction plan\n",
        "contraction_plan = cutensor.create_contraction_plan(contract_desc, desc_A, desc_B, desc_output)"
      ]
    },
    {
      "cell_type": "code",
      "execution_count": null,
      "metadata": {
        "id": "7LPLkOR2datM"
      },
      "outputs": [],
      "source": [
        "#Perform contraction using contraction plan\n",
        "cutensor.contraction(contraction_plan, alpha, A, desc_A, B, desc_B, beta, output, desc_output)\n",
        "\n",
        "cp.cuda.Stream.null.synchronise()\n",
        "print(\"Result with cutensor: \", output)"
      ]
    },
    {
      "cell_type": "code",
      "source": [
        "#Task 1 function/abstract contraction passing the tensor, matrix, and dimension\n",
        "\n",
        "def contract(A, X, dim):\n",
        "\n",
        "    A_shape = A.shape\n",
        "    X_shape = X.shape\n",
        "\n",
        "    print(A_shape)\n",
        "\n",
        "    A = A.reshape(A.prod(A.shape[:]))\n",
        "\n",
        "    desc_A = cutensor.create_tensor_descriptor(A)\n",
        "    desc_B = cutensor.create_tensor_descriptor(B)\n",
        "\n",
        "    desc_output = cutensor.create_tensor_descriptor()\n"
      ],
      "metadata": {
        "id": "sXI3F2gfx98d"
      },
      "execution_count": null,
      "outputs": []
    }
  ],
  "metadata": {
    "language_info": {
      "name": "python"
    },
    "colab": {
      "provenance": [],
      "gpuType": "T4"
    },
    "kernelspec": {
      "name": "python3",
      "display_name": "Python 3"
    },
    "accelerator": "GPU"
  },
  "nbformat": 4,
  "nbformat_minor": 0
}