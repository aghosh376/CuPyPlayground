{
 "cells": [
  {
   "cell_type": "code",
   "execution_count": null,
   "metadata": {},
   "outputs": [],
   "source": [
    "import numpy as np\n",
    "import cupy as cp\n",
    "import cupy.cutensor as cutensor\n",
    "\n",
    "cp.cuda.Stream.null.synchronize()"
   ]
  },
  {
   "cell_type": "code",
   "execution_count": null,
   "metadata": {},
   "outputs": [],
   "source": [
    "arr = cp.ones((1000,500,500))\n",
    "\n",
    "#makes us wait for gpu to finish before returning\n",
    "cp.cuda.Stream.null.synchronize()"
   ]
  },
  {
   "cell_type": "code",
   "execution_count": null,
   "metadata": {},
   "outputs": [],
   "source": [
    "A = cp.array([[[1,2,3],\n",
    "               [3,4,5],\n",
    "               [6,7,8]],\n",
    "              \n",
    "              [[9,10,11],\n",
    "               [12,13,14],\n",
    "               [15,16,17]]],)\n",
    "\n",
    "B = cp.zeros((2,3,3))\n",
    "\n",
    "print(\"A: \", A)\n",
    "print(\"B: \", B)\n"
   ]
  },
  {
   "cell_type": "code",
   "execution_count": null,
   "metadata": {},
   "outputs": [],
   "source": [
    "result = cp.einsum('ijk,jkl->il', A, B)\n",
    "print(\"Result with cp.einsum: \", result)\n",
    "\n",
    "# ijk the dimensions of A, jkl the dimensions of B, il the dimensions of the einstein sum\n",
    "# contraction happens over the j and k dimensions\n",
    "cp.cuda.Stream.null.synchronize()"
   ]
  },
  {
   "cell_type": "code",
   "execution_count": null,
   "metadata": {},
   "outputs": [],
   "source": [
    "# using cutensor\n",
    "\n",
    "#need descriptors to describe shape, data type and memory of tensor\n",
    "desc_A = cutensor.create_tensor_descriptor(A)\n",
    "\n",
    "desc_B = cutensor.create_tensor_descriptor(B)\n",
    "\n",
    "# Empty output tensor of the shape of the einstein sum of dimensions il\n",
    "output = cp.empty((2,3), dType = A.dtype)\n",
    "\n",
    "desc_output = cutensor.create_tensor_descriptor(output)"
   ]
  },
  {
   "cell_type": "code",
   "execution_count": null,
   "metadata": {},
   "outputs": [],
   "source": [
    "#create description of contraction of the tensors\n",
    "contract_desc = cutensor.einsum_expr(('i','j','k'),('j','k','l'),('i','l'))\n",
    "#('i','j','k') dimensions of A, \n",
    "#('j','k','l') dimensions of B, \n",
    "#('i','l') dimensions of output\n",
    "\n",
    "#scale factor for contraction operation\n",
    "alpha = 1.0\n",
    "#scale factor for output \n",
    "beta = 0.0\n",
    "\n",
    "#contraction plan\n",
    "contraction_plan = cutensor.create_contraction_plan(contract_desc, desc_A, desc_B, desc_output)"
   ]
  },
  {
   "cell_type": "code",
   "execution_count": null,
   "metadata": {},
   "outputs": [],
   "source": [
    "#Perform contraction using contraction plan\n",
    "cutensor.contraction(contraction_plan, alpha, A, desc_A, B, desc_B, beta, output, desc_output)\n",
    "\n",
    "cp.cuda.Stream.null.synchronise()\n",
    "print(\"Result with cutensor: \", output)"
   ]
  }
 ],
 "metadata": {
  "language_info": {
   "name": "python"
  }
 },
 "nbformat": 4,
 "nbformat_minor": 2
}
